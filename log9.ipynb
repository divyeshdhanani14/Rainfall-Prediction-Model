{
  "nbformat": 4,
  "nbformat_minor": 0,
  "metadata": {
    "colab": {
      "provenance": []
    },
    "kernelspec": {
      "name": "python3",
      "display_name": "Python 3"
    },
    "language_info": {
      "name": "python"
    }
  },
  "cells": [
    {
      "cell_type": "markdown",
      "source": [
        "Importing pandas library to load the dataset."
      ],
      "metadata": {
        "id": "NrNCrnn9ZO7i"
      }
    },
    {
      "cell_type": "code",
      "execution_count": 51,
      "metadata": {
        "id": "5pBg4xI9sCVp"
      },
      "outputs": [],
      "source": [
        "import pandas as pd\n",
        "import os"
      ]
    },
    {
      "cell_type": "markdown",
      "source": [
        "Loading the Dataset"
      ],
      "metadata": {
        "id": "-bTDLjV-ZTig"
      }
    },
    {
      "cell_type": "code",
      "source": [
        "bengaluru_weather_data = pd.read_excel(\"/content/drive/MyDrive/Log/open-meteo-13 (1).00N77.60E914m.xlsx\")"
      ],
      "metadata": {
        "id": "QSJS_j7NBKwU"
      },
      "execution_count": null,
      "outputs": []
    },
    {
      "cell_type": "markdown",
      "source": [
        "Checking Headers"
      ],
      "metadata": {
        "id": "zql9m1BqZVIi"
      }
    },
    {
      "cell_type": "code",
      "source": [
        "bengaluru_weather_data.head()"
      ],
      "metadata": {
        "colab": {
          "base_uri": "https://localhost:8080/",
          "height": 461
        },
        "id": "7ZLVOEpdEMgl",
        "outputId": "49ed2485-82b9-4e31-eb8d-685e8cb9aec8"
      },
      "execution_count": null,
      "outputs": [
        {
          "output_type": "execute_result",
          "data": {
            "text/plain": [
              "        time  weathercode (wmo code)  temperature_2m_max (°C)  \\\n",
              "0 2019-01-14                     2.0                     28.1   \n",
              "1 2019-01-15                     1.0                     27.8   \n",
              "2 2019-01-16                     1.0                     27.7   \n",
              "3 2019-01-17                     0.0                     27.8   \n",
              "4 2019-01-18                     3.0                     27.9   \n",
              "\n",
              "   temperature_2m_min (°C)  temperature_2m_mean (°C)  \\\n",
              "0                     13.6                 20.354166   \n",
              "1                     12.8                 20.033333   \n",
              "2                     12.9                 20.049997   \n",
              "3                     13.3                 20.279165   \n",
              "4                     15.3                 20.766668   \n",
              "\n",
              "   apparent_temperature_max (°C)  apparent_temperature_min (°C)  \\\n",
              "0                           14.4                           27.3   \n",
              "1                           12.6                           25.0   \n",
              "2                           13.3                           26.1   \n",
              "3                           14.7                           27.2   \n",
              "4                           16.1                           26.8   \n",
              "\n",
              "   apparent_temperature_mean (°C)   sunrise (iso8601)    sunset (iso8601)  \\\n",
              "0                       19.570837 2019-01-14 06:14:18 2019-01-14 17:42:49   \n",
              "1                       17.800001 2019-01-15 06:14:30 2019-01-15 17:43:23   \n",
              "2                       18.820833 2019-01-16 06:14:39 2019-01-16 17:43:55   \n",
              "3                       20.079168 2019-01-17 06:14:46 2019-01-17 17:44:27   \n",
              "4                       20.612501 2019-01-18 06:14:53 2019-01-18 17:44:58   \n",
              "\n",
              "   shortwave_radiation_sum (MJ/m²)  precipitation_sum (mm)  rain_sum (mm)  \\\n",
              "0                            22.26                     0.0            0.0   \n",
              "1                            22.58                     0.0            0.0   \n",
              "2                            22.89                     0.0            0.0   \n",
              "3                            22.36                     0.0            0.0   \n",
              "4                            22.32                     0.0            0.0   \n",
              "\n",
              "   snowfall_sum (cm)  precipitation_hours (h)  windspeed_10m_max (km/h)  \\\n",
              "0                0.0                      0.0                      13.7   \n",
              "1                0.0                      0.0                      14.7   \n",
              "2                0.0                      0.0                      13.1   \n",
              "3                0.0                      0.0                      13.2   \n",
              "4                0.0                      0.0                      13.8   \n",
              "\n",
              "   windgusts_10m_max (km/h)  winddirection_10m_dominant (°)  \\\n",
              "0                      29.5                       73.240500   \n",
              "1                      33.8                       73.160400   \n",
              "2                      32.8                       89.417100   \n",
              "3                      32.0                       79.524414   \n",
              "4                      33.5                       81.812860   \n",
              "\n",
              "   et0_fao_evapotranspiration (mm)  \n",
              "0                         4.840001  \n",
              "1                         5.350000  \n",
              "2                         5.040000  \n",
              "3                         4.760000  \n",
              "4                         4.910000  "
            ],
            "text/html": [
              "\n",
              "  <div id=\"df-fc5d84a6-4cc3-45a2-b437-a0a0554d0a8c\">\n",
              "    <div class=\"colab-df-container\">\n",
              "      <div>\n",
              "<style scoped>\n",
              "    .dataframe tbody tr th:only-of-type {\n",
              "        vertical-align: middle;\n",
              "    }\n",
              "\n",
              "    .dataframe tbody tr th {\n",
              "        vertical-align: top;\n",
              "    }\n",
              "\n",
              "    .dataframe thead th {\n",
              "        text-align: right;\n",
              "    }\n",
              "</style>\n",
              "<table border=\"1\" class=\"dataframe\">\n",
              "  <thead>\n",
              "    <tr style=\"text-align: right;\">\n",
              "      <th></th>\n",
              "      <th>time</th>\n",
              "      <th>weathercode (wmo code)</th>\n",
              "      <th>temperature_2m_max (°C)</th>\n",
              "      <th>temperature_2m_min (°C)</th>\n",
              "      <th>temperature_2m_mean (°C)</th>\n",
              "      <th>apparent_temperature_max (°C)</th>\n",
              "      <th>apparent_temperature_min (°C)</th>\n",
              "      <th>apparent_temperature_mean (°C)</th>\n",
              "      <th>sunrise (iso8601)</th>\n",
              "      <th>sunset (iso8601)</th>\n",
              "      <th>shortwave_radiation_sum (MJ/m²)</th>\n",
              "      <th>precipitation_sum (mm)</th>\n",
              "      <th>rain_sum (mm)</th>\n",
              "      <th>snowfall_sum (cm)</th>\n",
              "      <th>precipitation_hours (h)</th>\n",
              "      <th>windspeed_10m_max (km/h)</th>\n",
              "      <th>windgusts_10m_max (km/h)</th>\n",
              "      <th>winddirection_10m_dominant (°)</th>\n",
              "      <th>et0_fao_evapotranspiration (mm)</th>\n",
              "    </tr>\n",
              "  </thead>\n",
              "  <tbody>\n",
              "    <tr>\n",
              "      <th>0</th>\n",
              "      <td>2019-01-14</td>\n",
              "      <td>2.0</td>\n",
              "      <td>28.1</td>\n",
              "      <td>13.6</td>\n",
              "      <td>20.354166</td>\n",
              "      <td>14.4</td>\n",
              "      <td>27.3</td>\n",
              "      <td>19.570837</td>\n",
              "      <td>2019-01-14 06:14:18</td>\n",
              "      <td>2019-01-14 17:42:49</td>\n",
              "      <td>22.26</td>\n",
              "      <td>0.0</td>\n",
              "      <td>0.0</td>\n",
              "      <td>0.0</td>\n",
              "      <td>0.0</td>\n",
              "      <td>13.7</td>\n",
              "      <td>29.5</td>\n",
              "      <td>73.240500</td>\n",
              "      <td>4.840001</td>\n",
              "    </tr>\n",
              "    <tr>\n",
              "      <th>1</th>\n",
              "      <td>2019-01-15</td>\n",
              "      <td>1.0</td>\n",
              "      <td>27.8</td>\n",
              "      <td>12.8</td>\n",
              "      <td>20.033333</td>\n",
              "      <td>12.6</td>\n",
              "      <td>25.0</td>\n",
              "      <td>17.800001</td>\n",
              "      <td>2019-01-15 06:14:30</td>\n",
              "      <td>2019-01-15 17:43:23</td>\n",
              "      <td>22.58</td>\n",
              "      <td>0.0</td>\n",
              "      <td>0.0</td>\n",
              "      <td>0.0</td>\n",
              "      <td>0.0</td>\n",
              "      <td>14.7</td>\n",
              "      <td>33.8</td>\n",
              "      <td>73.160400</td>\n",
              "      <td>5.350000</td>\n",
              "    </tr>\n",
              "    <tr>\n",
              "      <th>2</th>\n",
              "      <td>2019-01-16</td>\n",
              "      <td>1.0</td>\n",
              "      <td>27.7</td>\n",
              "      <td>12.9</td>\n",
              "      <td>20.049997</td>\n",
              "      <td>13.3</td>\n",
              "      <td>26.1</td>\n",
              "      <td>18.820833</td>\n",
              "      <td>2019-01-16 06:14:39</td>\n",
              "      <td>2019-01-16 17:43:55</td>\n",
              "      <td>22.89</td>\n",
              "      <td>0.0</td>\n",
              "      <td>0.0</td>\n",
              "      <td>0.0</td>\n",
              "      <td>0.0</td>\n",
              "      <td>13.1</td>\n",
              "      <td>32.8</td>\n",
              "      <td>89.417100</td>\n",
              "      <td>5.040000</td>\n",
              "    </tr>\n",
              "    <tr>\n",
              "      <th>3</th>\n",
              "      <td>2019-01-17</td>\n",
              "      <td>0.0</td>\n",
              "      <td>27.8</td>\n",
              "      <td>13.3</td>\n",
              "      <td>20.279165</td>\n",
              "      <td>14.7</td>\n",
              "      <td>27.2</td>\n",
              "      <td>20.079168</td>\n",
              "      <td>2019-01-17 06:14:46</td>\n",
              "      <td>2019-01-17 17:44:27</td>\n",
              "      <td>22.36</td>\n",
              "      <td>0.0</td>\n",
              "      <td>0.0</td>\n",
              "      <td>0.0</td>\n",
              "      <td>0.0</td>\n",
              "      <td>13.2</td>\n",
              "      <td>32.0</td>\n",
              "      <td>79.524414</td>\n",
              "      <td>4.760000</td>\n",
              "    </tr>\n",
              "    <tr>\n",
              "      <th>4</th>\n",
              "      <td>2019-01-18</td>\n",
              "      <td>3.0</td>\n",
              "      <td>27.9</td>\n",
              "      <td>15.3</td>\n",
              "      <td>20.766668</td>\n",
              "      <td>16.1</td>\n",
              "      <td>26.8</td>\n",
              "      <td>20.612501</td>\n",
              "      <td>2019-01-18 06:14:53</td>\n",
              "      <td>2019-01-18 17:44:58</td>\n",
              "      <td>22.32</td>\n",
              "      <td>0.0</td>\n",
              "      <td>0.0</td>\n",
              "      <td>0.0</td>\n",
              "      <td>0.0</td>\n",
              "      <td>13.8</td>\n",
              "      <td>33.5</td>\n",
              "      <td>81.812860</td>\n",
              "      <td>4.910000</td>\n",
              "    </tr>\n",
              "  </tbody>\n",
              "</table>\n",
              "</div>\n",
              "      <button class=\"colab-df-convert\" onclick=\"convertToInteractive('df-fc5d84a6-4cc3-45a2-b437-a0a0554d0a8c')\"\n",
              "              title=\"Convert this dataframe to an interactive table.\"\n",
              "              style=\"display:none;\">\n",
              "        \n",
              "  <svg xmlns=\"http://www.w3.org/2000/svg\" height=\"24px\"viewBox=\"0 0 24 24\"\n",
              "       width=\"24px\">\n",
              "    <path d=\"M0 0h24v24H0V0z\" fill=\"none\"/>\n",
              "    <path d=\"M18.56 5.44l.94 2.06.94-2.06 2.06-.94-2.06-.94-.94-2.06-.94 2.06-2.06.94zm-11 1L8.5 8.5l.94-2.06 2.06-.94-2.06-.94L8.5 2.5l-.94 2.06-2.06.94zm10 10l.94 2.06.94-2.06 2.06-.94-2.06-.94-.94-2.06-.94 2.06-2.06.94z\"/><path d=\"M17.41 7.96l-1.37-1.37c-.4-.4-.92-.59-1.43-.59-.52 0-1.04.2-1.43.59L10.3 9.45l-7.72 7.72c-.78.78-.78 2.05 0 2.83L4 21.41c.39.39.9.59 1.41.59.51 0 1.02-.2 1.41-.59l7.78-7.78 2.81-2.81c.8-.78.8-2.07 0-2.86zM5.41 20L4 18.59l7.72-7.72 1.47 1.35L5.41 20z\"/>\n",
              "  </svg>\n",
              "      </button>\n",
              "      \n",
              "  <style>\n",
              "    .colab-df-container {\n",
              "      display:flex;\n",
              "      flex-wrap:wrap;\n",
              "      gap: 12px;\n",
              "    }\n",
              "\n",
              "    .colab-df-convert {\n",
              "      background-color: #E8F0FE;\n",
              "      border: none;\n",
              "      border-radius: 50%;\n",
              "      cursor: pointer;\n",
              "      display: none;\n",
              "      fill: #1967D2;\n",
              "      height: 32px;\n",
              "      padding: 0 0 0 0;\n",
              "      width: 32px;\n",
              "    }\n",
              "\n",
              "    .colab-df-convert:hover {\n",
              "      background-color: #E2EBFA;\n",
              "      box-shadow: 0px 1px 2px rgba(60, 64, 67, 0.3), 0px 1px 3px 1px rgba(60, 64, 67, 0.15);\n",
              "      fill: #174EA6;\n",
              "    }\n",
              "\n",
              "    [theme=dark] .colab-df-convert {\n",
              "      background-color: #3B4455;\n",
              "      fill: #D2E3FC;\n",
              "    }\n",
              "\n",
              "    [theme=dark] .colab-df-convert:hover {\n",
              "      background-color: #434B5C;\n",
              "      box-shadow: 0px 1px 3px 1px rgba(0, 0, 0, 0.15);\n",
              "      filter: drop-shadow(0px 1px 2px rgba(0, 0, 0, 0.3));\n",
              "      fill: #FFFFFF;\n",
              "    }\n",
              "  </style>\n",
              "\n",
              "      <script>\n",
              "        const buttonEl =\n",
              "          document.querySelector('#df-fc5d84a6-4cc3-45a2-b437-a0a0554d0a8c button.colab-df-convert');\n",
              "        buttonEl.style.display =\n",
              "          google.colab.kernel.accessAllowed ? 'block' : 'none';\n",
              "\n",
              "        async function convertToInteractive(key) {\n",
              "          const element = document.querySelector('#df-fc5d84a6-4cc3-45a2-b437-a0a0554d0a8c');\n",
              "          const dataTable =\n",
              "            await google.colab.kernel.invokeFunction('convertToInteractive',\n",
              "                                                     [key], {});\n",
              "          if (!dataTable) return;\n",
              "\n",
              "          const docLinkHtml = 'Like what you see? Visit the ' +\n",
              "            '<a target=\"_blank\" href=https://colab.research.google.com/notebooks/data_table.ipynb>data table notebook</a>'\n",
              "            + ' to learn more about interactive tables.';\n",
              "          element.innerHTML = '';\n",
              "          dataTable['output_type'] = 'display_data';\n",
              "          await google.colab.output.renderOutput(dataTable, element);\n",
              "          const docLink = document.createElement('div');\n",
              "          docLink.innerHTML = docLinkHtml;\n",
              "          element.appendChild(docLink);\n",
              "        }\n",
              "      </script>\n",
              "    </div>\n",
              "  </div>\n",
              "  "
            ]
          },
          "metadata": {},
          "execution_count": 12
        }
      ]
    },
    {
      "cell_type": "markdown",
      "source": [
        "Details about our columns"
      ],
      "metadata": {
        "id": "Ac24vYKIZWmi"
      }
    },
    {
      "cell_type": "code",
      "source": [
        "bengaluru_weather_data.columns"
      ],
      "metadata": {
        "colab": {
          "base_uri": "https://localhost:8080/"
        },
        "id": "NFgD1xcsJovU",
        "outputId": "22cf4ac3-0de5-4ef2-943b-80a7f46d5f62"
      },
      "execution_count": null,
      "outputs": [
        {
          "output_type": "execute_result",
          "data": {
            "text/plain": [
              "Index(['time', 'weathercode (wmo code)', 'temperature_2m_max (°C)',\n",
              "       'temperature_2m_min (°C)', 'temperature_2m_mean (°C)',\n",
              "       'apparent_temperature_max (°C)', 'apparent_temperature_min (°C)',\n",
              "       'apparent_temperature_mean (°C)', 'sunrise (iso8601)',\n",
              "       'sunset (iso8601)', 'shortwave_radiation_sum (MJ/m²)',\n",
              "       'precipitation_sum (mm)', 'rain_sum (mm)', 'snowfall_sum (cm)',\n",
              "       'precipitation_hours (h)', 'windspeed_10m_max (km/h)',\n",
              "       'windgusts_10m_max (km/h)', 'winddirection_10m_dominant (°)',\n",
              "       'et0_fao_evapotranspiration (mm)'],\n",
              "      dtype='object')"
            ]
          },
          "metadata": {},
          "execution_count": 13
        }
      ]
    },
    {
      "cell_type": "markdown",
      "source": [
        "Information about our dataset"
      ],
      "metadata": {
        "id": "racOKKPAZZRQ"
      }
    },
    {
      "cell_type": "code",
      "source": [
        "bengaluru_weather_data.info()"
      ],
      "metadata": {
        "colab": {
          "base_uri": "https://localhost:8080/"
        },
        "id": "NVRb_VPoJhFz",
        "outputId": "79a41c22-bda8-4f42-812a-d06382e46ec1"
      },
      "execution_count": null,
      "outputs": [
        {
          "output_type": "stream",
          "name": "stdout",
          "text": [
            "<class 'pandas.core.frame.DataFrame'>\n",
            "RangeIndex: 1097 entries, 0 to 1096\n",
            "Data columns (total 19 columns):\n",
            " #   Column                           Non-Null Count  Dtype         \n",
            "---  ------                           --------------  -----         \n",
            " 0   time                             1097 non-null   datetime64[ns]\n",
            " 1   weathercode (wmo code)           1097 non-null   float64       \n",
            " 2   temperature_2m_max (°C)          1097 non-null   float64       \n",
            " 3   temperature_2m_min (°C)          1097 non-null   float64       \n",
            " 4   temperature_2m_mean (°C)         1097 non-null   float64       \n",
            " 5   apparent_temperature_max (°C)    1097 non-null   float64       \n",
            " 6   apparent_temperature_min (°C)    1097 non-null   float64       \n",
            " 7   apparent_temperature_mean (°C)   1097 non-null   float64       \n",
            " 8   sunrise (iso8601)                1097 non-null   datetime64[ns]\n",
            " 9   sunset (iso8601)                 1097 non-null   datetime64[ns]\n",
            " 10  shortwave_radiation_sum (MJ/m²)  1097 non-null   float64       \n",
            " 11  precipitation_sum (mm)           1097 non-null   float64       \n",
            " 12  rain_sum (mm)                    1097 non-null   float64       \n",
            " 13  snowfall_sum (cm)                1097 non-null   float64       \n",
            " 14  precipitation_hours (h)          1097 non-null   float64       \n",
            " 15  windspeed_10m_max (km/h)         1097 non-null   float64       \n",
            " 16  windgusts_10m_max (km/h)         1097 non-null   float64       \n",
            " 17  winddirection_10m_dominant (°)   1097 non-null   float64       \n",
            " 18  et0_fao_evapotranspiration (mm)  1097 non-null   float64       \n",
            "dtypes: datetime64[ns](3), float64(16)\n",
            "memory usage: 163.0 KB\n"
          ]
        }
      ]
    },
    {
      "cell_type": "markdown",
      "source": [
        "Checking null values"
      ],
      "metadata": {
        "id": "_9oeMBoRZcHp"
      }
    },
    {
      "cell_type": "code",
      "source": [
        "bengaluru_weather_data.isnull().sum()"
      ],
      "metadata": {
        "colab": {
          "base_uri": "https://localhost:8080/"
        },
        "id": "fx0vAJj7GKMm",
        "outputId": "c1d92331-1f54-429b-c677-caa367a0d82b"
      },
      "execution_count": null,
      "outputs": [
        {
          "output_type": "execute_result",
          "data": {
            "text/plain": [
              "time                               0\n",
              "weathercode (wmo code)             0\n",
              "temperature_2m_max (°C)            0\n",
              "temperature_2m_min (°C)            0\n",
              "temperature_2m_mean (°C)           0\n",
              "apparent_temperature_max (°C)      0\n",
              "apparent_temperature_min (°C)      0\n",
              "apparent_temperature_mean (°C)     0\n",
              "sunrise (iso8601)                  0\n",
              "sunset (iso8601)                   0\n",
              "shortwave_radiation_sum (MJ/m²)    0\n",
              "precipitation_sum (mm)             0\n",
              "rain_sum (mm)                      0\n",
              "snowfall_sum (cm)                  0\n",
              "precipitation_hours (h)            0\n",
              "windspeed_10m_max (km/h)           0\n",
              "windgusts_10m_max (km/h)           0\n",
              "winddirection_10m_dominant (°)     0\n",
              "et0_fao_evapotranspiration (mm)    0\n",
              "dtype: int64"
            ]
          },
          "metadata": {},
          "execution_count": 15
        }
      ]
    },
    {
      "cell_type": "code",
      "source": [
        "# bengaluru_weather_data = bengaluru_weather_data.dropna()"
      ],
      "metadata": {
        "id": "iMZjEg1UQF_S"
      },
      "execution_count": null,
      "outputs": []
    },
    {
      "cell_type": "code",
      "source": [
        "bengaluru_weather_data.columns"
      ],
      "metadata": {
        "colab": {
          "base_uri": "https://localhost:8080/"
        },
        "id": "JpYY2VkPRhhZ",
        "outputId": "f5616206-97d8-48ff-e058-f9a0ec1ea70c"
      },
      "execution_count": null,
      "outputs": [
        {
          "output_type": "execute_result",
          "data": {
            "text/plain": [
              "Index(['time', 'weathercode (wmo code)', 'temperature_2m_max (°C)',\n",
              "       'temperature_2m_min (°C)', 'temperature_2m_mean (°C)',\n",
              "       'apparent_temperature_max (°C)', 'apparent_temperature_min (°C)',\n",
              "       'apparent_temperature_mean (°C)', 'sunrise (iso8601)',\n",
              "       'sunset (iso8601)', 'shortwave_radiation_sum (MJ/m²)',\n",
              "       'precipitation_sum (mm)', 'rain_sum (mm)', 'snowfall_sum (cm)',\n",
              "       'precipitation_hours (h)', 'windspeed_10m_max (km/h)',\n",
              "       'windgusts_10m_max (km/h)', 'winddirection_10m_dominant (°)',\n",
              "       'et0_fao_evapotranspiration (mm)'],\n",
              "      dtype='object')"
            ]
          },
          "metadata": {},
          "execution_count": 16
        }
      ]
    },
    {
      "cell_type": "markdown",
      "source": [
        "Renaming the columns"
      ],
      "metadata": {
        "id": "VZTpJTU4Zer4"
      }
    },
    {
      "cell_type": "code",
      "source": [
        "bengaluru_weather_data = bengaluru_weather_data.rename(columns = {'weathercode (wmo code)': 'weather_code', 'temperature_2m_max (°C)':'temperature_2m_max',\n",
        "                                                       'temperature_2m_min (°C)':'temperature_2m_min', 'temperature_2m_mean (°C)':'temperature_2m_mean','rain_sum (mm)': 'rain_sum'} )"
      ],
      "metadata": {
        "id": "hCNDF-pKQR5p"
      },
      "execution_count": null,
      "outputs": []
    },
    {
      "cell_type": "markdown",
      "source": [
        "So, We've decided the target value to predict the rainfall"
      ],
      "metadata": {
        "id": "JFao6MqkZhUv"
      }
    },
    {
      "cell_type": "code",
      "source": [
        "target_value = bengaluru_weather_data['rain_sum']"
      ],
      "metadata": {
        "id": "-eqO1Yx4WdxR"
      },
      "execution_count": null,
      "outputs": []
    },
    {
      "cell_type": "code",
      "source": [
        "corr_plot = bengaluru_weather_data.corr()"
      ],
      "metadata": {
        "id": "2W7W-I-IbqRv"
      },
      "execution_count": null,
      "outputs": []
    },
    {
      "cell_type": "code",
      "source": [
        "cor_target = abs(corr_plot[\"rain_sum\"])\n",
        "\n",
        "relevant_train_features = cor_target[cor_target>0.20]\n",
        "relevant_train_features"
      ],
      "metadata": {
        "colab": {
          "base_uri": "https://localhost:8080/"
        },
        "id": "GyryqR6ubpG_",
        "outputId": "d66adb31-f33b-41ca-d440-53b1a41e4b30"
      },
      "execution_count": null,
      "outputs": [
        {
          "output_type": "execute_result",
          "data": {
            "text/plain": [
              "weather_code                       0.549740\n",
              "temperature_2m_max                 0.330313\n",
              "temperature_2m_min                 0.221642\n",
              "apparent_temperature_max (°C)      0.220716\n",
              "shortwave_radiation_sum (MJ/m²)    0.476234\n",
              "precipitation_sum (mm)             1.000000\n",
              "rain_sum                           1.000000\n",
              "precipitation_hours (h)            0.758433\n",
              "winddirection_10m_dominant (°)     0.262956\n",
              "et0_fao_evapotranspiration (mm)    0.469539\n",
              "Name: rain_sum, dtype: float64"
            ]
          },
          "metadata": {},
          "execution_count": 50
        }
      ]
    },
    {
      "cell_type": "code",
      "source": [
        "X = bengaluru_weather_data[['weather_code','temperature_2m_max','temperature_2m_min','apparent_temperature_max (°C)',\n",
        "          'shortwave_radiation_sum (MJ/m²)','precipitation_hours (h)',\n",
        "          'winddirection_10m_dominant (°)','et0_fao_evapotranspiration (mm)','et0_fao_evapotranspiration (mm)']]\n",
        "\n",
        "y = bengaluru_weather_data['rain_sum']"
      ],
      "metadata": {
        "id": "M-TtRH1gWvZZ"
      },
      "execution_count": 66,
      "outputs": []
    },
    {
      "cell_type": "markdown",
      "source": [
        "**Importing the libraries for prediction**"
      ],
      "metadata": {
        "id": "In4w8XA2Z04Q"
      }
    },
    {
      "cell_type": "code",
      "source": [
        "from sklearn.linear_model import LinearRegression\n",
        "from sklearn.model_selection import train_test_split\n",
        "import numpy as np\n",
        "from sklearn import metrics\n",
        "from sklearn.metrics import r2_score\n",
        "from sklearn.metrics import mean_squared_error\n",
        "from sklearn.metrics import mean_absolute_error\n",
        "import warnings\n",
        "warnings.filterwarnings('ignore')"
      ],
      "metadata": {
        "id": "X97xIDDmXAVq"
      },
      "execution_count": 67,
      "outputs": []
    },
    {
      "cell_type": "code",
      "source": [
        "y.value_counts()"
      ],
      "metadata": {
        "colab": {
          "base_uri": "https://localhost:8080/"
        },
        "id": "hPAEJ0mdXtlR",
        "outputId": "aa79ae2f-4839-41d7-eaf6-af9676492fb2"
      },
      "execution_count": 68,
      "outputs": [
        {
          "output_type": "execute_result",
          "data": {
            "text/plain": [
              "0.000000     497\n",
              "0.100000      34\n",
              "0.200000      27\n",
              "0.400000      19\n",
              "0.500000      18\n",
              "            ... \n",
              "11.000000      1\n",
              "10.200000      1\n",
              "1.300000       1\n",
              "5.700000       1\n",
              "4.400001       1\n",
              "Name: rain_sum, Length: 277, dtype: int64"
            ]
          },
          "metadata": {},
          "execution_count": 68
        }
      ]
    },
    {
      "cell_type": "markdown",
      "source": [
        "We need to scale the data...\n"
      ],
      "metadata": {
        "id": "rqjGTI6LXwas"
      }
    },
    {
      "cell_type": "code",
      "source": [
        "X = np.sqrt(X)"
      ],
      "metadata": {
        "id": "QOdMvRvNXylQ"
      },
      "execution_count": 69,
      "outputs": []
    },
    {
      "cell_type": "code",
      "source": [
        "y = np.sqrt(y)"
      ],
      "metadata": {
        "id": "38uphW91X1NQ"
      },
      "execution_count": 70,
      "outputs": []
    },
    {
      "cell_type": "markdown",
      "source": [
        "Spliting the Data into train and test set"
      ],
      "metadata": {
        "id": "_z4siEFWZ8tg"
      }
    },
    {
      "cell_type": "code",
      "source": [
        "X_train,X_test,y_train,y_test = train_test_split(X,y ,test_size = 0.25, random_state = 0)\n",
        "print(X_train.shape)\n",
        "X_test.shape"
      ],
      "metadata": {
        "colab": {
          "base_uri": "https://localhost:8080/"
        },
        "id": "njEsbMIzX9Ap",
        "outputId": "bf50f69f-72f4-4210-bd60-c5d8c393a7a4"
      },
      "execution_count": 71,
      "outputs": [
        {
          "output_type": "stream",
          "name": "stdout",
          "text": [
            "(822, 9)\n"
          ]
        },
        {
          "output_type": "execute_result",
          "data": {
            "text/plain": [
              "(275, 9)"
            ]
          },
          "metadata": {},
          "execution_count": 71
        }
      ]
    },
    {
      "cell_type": "code",
      "source": [
        "LR_M = LinearRegression().fit(X_train,y_train)"
      ],
      "metadata": {
        "id": "orSjUWLlYH0w"
      },
      "execution_count": 72,
      "outputs": []
    },
    {
      "cell_type": "code",
      "source": [
        "LR_M.score(X_train,y_train)"
      ],
      "metadata": {
        "colab": {
          "base_uri": "https://localhost:8080/"
        },
        "id": "xdy7oshQYPDY",
        "outputId": "6f84fbe7-4909-41af-ea33-c8a7fed373e1"
      },
      "execution_count": 73,
      "outputs": [
        {
          "output_type": "execute_result",
          "data": {
            "text/plain": [
              "0.8413694541492438"
            ]
          },
          "metadata": {},
          "execution_count": 73
        }
      ]
    },
    {
      "cell_type": "code",
      "source": [
        "# Predicted Train & Test values \n",
        "y_pred_train = LR_M.predict(X_train)\n",
        "y_pred_test = LR_M.predict(X_test)"
      ],
      "metadata": {
        "id": "Lb9xjWIAYVxi"
      },
      "execution_count": 74,
      "outputs": []
    },
    {
      "cell_type": "code",
      "source": [
        "# Calculating Performance Metrics for train data\n",
        "\n",
        "#  MSE\n",
        "MSE = mean_squared_error((y_train), (y_pred_train))\n",
        "# 2. RSME\n",
        "RMSE = np.sqrt(MSE)\n",
        "#3. MAE\n",
        "MAE = mean_absolute_error((y_train), (y_pred_train))\n",
        "# R2\n",
        "R2 = r2_score((y_train), (y_pred_train))\n",
        "# Adjusted R2\n",
        "Adj_R2 = (1-(1-r2_score(y_train, y_pred_train))*((X_test.shape[0]-1)/(X_test.shape[0]-X_test.shape[1]-1)))\n",
        "#--------------------------------------------------------------------------------------------------------\n",
        "print('MSE :',MSE)\n",
        "print('-'*10)\n",
        "print(\"RMSE :\",RMSE)\n",
        "print('-'*10)\n",
        "print('MAE :', MAE)\n",
        "print('-'*10)\n",
        "print('R2 :', R2)\n",
        "print('-'*10)\n",
        "print( 'Adjusted R2 :', Adj_R2)"
      ],
      "metadata": {
        "colab": {
          "base_uri": "https://localhost:8080/"
        },
        "id": "6IT5Ji9mYfLA",
        "outputId": "f1d7e0bf-9365-49d6-a044-ee7145b80d05"
      },
      "execution_count": 75,
      "outputs": [
        {
          "output_type": "stream",
          "name": "stdout",
          "text": [
            "MSE : 0.27220516334401645\n",
            "----------\n",
            "RMSE : 0.5217328467175671\n",
            "----------\n",
            "MAE : 0.3434501812273664\n",
            "----------\n",
            "R2 : 0.8413694541492438\n",
            "----------\n",
            "Adjusted R2 : 0.8359820016486521\n"
          ]
        }
      ]
    },
    {
      "cell_type": "code",
      "source": [
        "# Making a dataset for comparing performance metrics later\n",
        "\n",
        "dict1={'Model':'Linear regression ',\n",
        "       'MAE':round((MAE),3),\n",
        "       'MSE':round((MSE),3),\n",
        "       'RMSE':round((RMSE),3),\n",
        "       'R2':round((R2),3),\n",
        "       'Adj_R2':round((Adj_R2 ),2)\n",
        "       }\n",
        "training_df=pd.DataFrame(dict1,index=[1])"
      ],
      "metadata": {
        "id": "1BqphBYJY2YI"
      },
      "execution_count": 76,
      "outputs": []
    },
    {
      "cell_type": "code",
      "source": [
        "# Calculating Performance Metrics for test data\n",
        "\n",
        "# 1. MSE\n",
        "MSE = mean_squared_error((y_test), (y_pred_test))\n",
        "# 2. RSME\n",
        "RMSE = np.sqrt(MSE)\n",
        "#3. MAE\n",
        "MAE = mean_absolute_error((y_test), (y_pred_test))\n",
        "# R2\n",
        "R2 = r2_score((y_test), (y_pred_test))\n",
        "# Adjusted R2\n",
        "Adj_R2 = (1-(1-r2_score(y_test, y_pred_test))*((X_test.shape[0]-1)/(X_test.shape[0]-X_test.shape[1]-1)))\n",
        "#--------------------------------------------------------------------------------------------------------\n",
        "print('MSE :',MSE)\n",
        "print('-'*10)\n",
        "print(\"RMSE :\",RMSE)\n",
        "print('-'*10)\n",
        "print('MAE :', MAE)\n",
        "print('-'*10)\n",
        "print('R2 :', R2)\n",
        "print('-'*10)\n",
        "print( 'Adjusted R2 :', Adj_R2)"
      ],
      "metadata": {
        "colab": {
          "base_uri": "https://localhost:8080/"
        },
        "id": "s4PXYtopY3ZI",
        "outputId": "bfe48f5f-81cc-45c1-c756-1ecc6f240457"
      },
      "execution_count": 77,
      "outputs": [
        {
          "output_type": "stream",
          "name": "stdout",
          "text": [
            "MSE : 0.46398723761083766\n",
            "----------\n",
            "RMSE : 0.6811660866564319\n",
            "----------\n",
            "MAE : 0.39301219349864125\n",
            "----------\n",
            "R2 : 0.8017962802052562\n",
            "----------\n",
            "Adjusted R2 : 0.7950648331178876\n"
          ]
        }
      ]
    },
    {
      "cell_type": "code",
      "source": [
        "dict2={'Model':'Linear regression ',\n",
        "       'MAE':round((MAE),3),\n",
        "       'MSE':round((MSE),3),\n",
        "       'RMSE':round((RMSE),3),\n",
        "       'R2':round((R2),3),\n",
        "       'Adj_R2':round((Adj_R2 ),2)\n",
        "       }\n",
        "test_df=pd.DataFrame(dict2,index=[1])"
      ],
      "metadata": {
        "id": "8VL5pVsAZJlY"
      },
      "execution_count": 78,
      "outputs": []
    },
    {
      "cell_type": "code",
      "source": [
        "result=pd.concat([training_df,test_df],keys=['Training set','Test set'])\n",
        "result"
      ],
      "metadata": {
        "colab": {
          "base_uri": "https://localhost:8080/",
          "height": 112
        },
        "id": "0ccC61SyZEEQ",
        "outputId": "3acc398c-2061-43e1-c12f-5d6c7e0381c9"
      },
      "execution_count": 79,
      "outputs": [
        {
          "output_type": "execute_result",
          "data": {
            "text/plain": [
              "                             Model    MAE    MSE   RMSE     R2  Adj_R2\n",
              "Training set 1  Linear regression   0.343  0.272  0.522  0.841    0.84\n",
              "Test set     1  Linear regression   0.393  0.464  0.681  0.802    0.80"
            ],
            "text/html": [
              "\n",
              "  <div id=\"df-387e002e-f052-4d81-b7b8-decb4981a754\">\n",
              "    <div class=\"colab-df-container\">\n",
              "      <div>\n",
              "<style scoped>\n",
              "    .dataframe tbody tr th:only-of-type {\n",
              "        vertical-align: middle;\n",
              "    }\n",
              "\n",
              "    .dataframe tbody tr th {\n",
              "        vertical-align: top;\n",
              "    }\n",
              "\n",
              "    .dataframe thead th {\n",
              "        text-align: right;\n",
              "    }\n",
              "</style>\n",
              "<table border=\"1\" class=\"dataframe\">\n",
              "  <thead>\n",
              "    <tr style=\"text-align: right;\">\n",
              "      <th></th>\n",
              "      <th></th>\n",
              "      <th>Model</th>\n",
              "      <th>MAE</th>\n",
              "      <th>MSE</th>\n",
              "      <th>RMSE</th>\n",
              "      <th>R2</th>\n",
              "      <th>Adj_R2</th>\n",
              "    </tr>\n",
              "  </thead>\n",
              "  <tbody>\n",
              "    <tr>\n",
              "      <th>Training set</th>\n",
              "      <th>1</th>\n",
              "      <td>Linear regression</td>\n",
              "      <td>0.343</td>\n",
              "      <td>0.272</td>\n",
              "      <td>0.522</td>\n",
              "      <td>0.841</td>\n",
              "      <td>0.84</td>\n",
              "    </tr>\n",
              "    <tr>\n",
              "      <th>Test set</th>\n",
              "      <th>1</th>\n",
              "      <td>Linear regression</td>\n",
              "      <td>0.393</td>\n",
              "      <td>0.464</td>\n",
              "      <td>0.681</td>\n",
              "      <td>0.802</td>\n",
              "      <td>0.80</td>\n",
              "    </tr>\n",
              "  </tbody>\n",
              "</table>\n",
              "</div>\n",
              "      <button class=\"colab-df-convert\" onclick=\"convertToInteractive('df-387e002e-f052-4d81-b7b8-decb4981a754')\"\n",
              "              title=\"Convert this dataframe to an interactive table.\"\n",
              "              style=\"display:none;\">\n",
              "        \n",
              "  <svg xmlns=\"http://www.w3.org/2000/svg\" height=\"24px\"viewBox=\"0 0 24 24\"\n",
              "       width=\"24px\">\n",
              "    <path d=\"M0 0h24v24H0V0z\" fill=\"none\"/>\n",
              "    <path d=\"M18.56 5.44l.94 2.06.94-2.06 2.06-.94-2.06-.94-.94-2.06-.94 2.06-2.06.94zm-11 1L8.5 8.5l.94-2.06 2.06-.94-2.06-.94L8.5 2.5l-.94 2.06-2.06.94zm10 10l.94 2.06.94-2.06 2.06-.94-2.06-.94-.94-2.06-.94 2.06-2.06.94z\"/><path d=\"M17.41 7.96l-1.37-1.37c-.4-.4-.92-.59-1.43-.59-.52 0-1.04.2-1.43.59L10.3 9.45l-7.72 7.72c-.78.78-.78 2.05 0 2.83L4 21.41c.39.39.9.59 1.41.59.51 0 1.02-.2 1.41-.59l7.78-7.78 2.81-2.81c.8-.78.8-2.07 0-2.86zM5.41 20L4 18.59l7.72-7.72 1.47 1.35L5.41 20z\"/>\n",
              "  </svg>\n",
              "      </button>\n",
              "      \n",
              "  <style>\n",
              "    .colab-df-container {\n",
              "      display:flex;\n",
              "      flex-wrap:wrap;\n",
              "      gap: 12px;\n",
              "    }\n",
              "\n",
              "    .colab-df-convert {\n",
              "      background-color: #E8F0FE;\n",
              "      border: none;\n",
              "      border-radius: 50%;\n",
              "      cursor: pointer;\n",
              "      display: none;\n",
              "      fill: #1967D2;\n",
              "      height: 32px;\n",
              "      padding: 0 0 0 0;\n",
              "      width: 32px;\n",
              "    }\n",
              "\n",
              "    .colab-df-convert:hover {\n",
              "      background-color: #E2EBFA;\n",
              "      box-shadow: 0px 1px 2px rgba(60, 64, 67, 0.3), 0px 1px 3px 1px rgba(60, 64, 67, 0.15);\n",
              "      fill: #174EA6;\n",
              "    }\n",
              "\n",
              "    [theme=dark] .colab-df-convert {\n",
              "      background-color: #3B4455;\n",
              "      fill: #D2E3FC;\n",
              "    }\n",
              "\n",
              "    [theme=dark] .colab-df-convert:hover {\n",
              "      background-color: #434B5C;\n",
              "      box-shadow: 0px 1px 3px 1px rgba(0, 0, 0, 0.15);\n",
              "      filter: drop-shadow(0px 1px 2px rgba(0, 0, 0, 0.3));\n",
              "      fill: #FFFFFF;\n",
              "    }\n",
              "  </style>\n",
              "\n",
              "      <script>\n",
              "        const buttonEl =\n",
              "          document.querySelector('#df-387e002e-f052-4d81-b7b8-decb4981a754 button.colab-df-convert');\n",
              "        buttonEl.style.display =\n",
              "          google.colab.kernel.accessAllowed ? 'block' : 'none';\n",
              "\n",
              "        async function convertToInteractive(key) {\n",
              "          const element = document.querySelector('#df-387e002e-f052-4d81-b7b8-decb4981a754');\n",
              "          const dataTable =\n",
              "            await google.colab.kernel.invokeFunction('convertToInteractive',\n",
              "                                                     [key], {});\n",
              "          if (!dataTable) return;\n",
              "\n",
              "          const docLinkHtml = 'Like what you see? Visit the ' +\n",
              "            '<a target=\"_blank\" href=https://colab.research.google.com/notebooks/data_table.ipynb>data table notebook</a>'\n",
              "            + ' to learn more about interactive tables.';\n",
              "          element.innerHTML = '';\n",
              "          dataTable['output_type'] = 'display_data';\n",
              "          await google.colab.output.renderOutput(dataTable, element);\n",
              "          const docLink = document.createElement('div');\n",
              "          docLink.innerHTML = docLinkHtml;\n",
              "          element.appendChild(docLink);\n",
              "        }\n",
              "      </script>\n",
              "    </div>\n",
              "  </div>\n",
              "  "
            ]
          },
          "metadata": {},
          "execution_count": 79
        }
      ]
    }
  ]
}